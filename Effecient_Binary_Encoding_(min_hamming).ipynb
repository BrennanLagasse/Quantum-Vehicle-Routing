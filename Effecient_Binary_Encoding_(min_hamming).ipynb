{
 "cells": [
  {
   "cell_type": "code",
   "execution_count": 1,
   "metadata": {},
   "outputs": [],
   "source": [
    "import numpy as np\n",
    "from tqdm import tqdm\n",
    "import time\n",
    "import math"
   ]
  },
  {
   "cell_type": "markdown",
   "metadata": {},
   "source": [
    "# Finite Configurational Approach\n",
    "\n",
    "The problem of finding a 'least Hamming map' from the infinite set of all integer numbers to an infinite set of possible binary encodings, which minimizes the total hamming distance between subsequent numerical representations, is difficult. To gain a better understanding of the problem, we begin by considering a finite set of possible binary encodings in the following way:\n",
    "\n",
    " Given some integer number N corresponding to the number of binary encodings we will need in our problem, create a list of the first N traditional binary numbers. The task now is to find the arrangement of those N bit strings which minimizes the total Hamming distance. \n",
    " \n",
    " The hypothesis is that perhas such as solution will be sufficient, or will at least provide useful insight into the problem. I begin by implementing a brute force approach which simply computes the total hamming distance for all N factorial configurations. This algorithm only works somewhat reasonably for N values up to 10 (which takes 5 minutes). It is not scalable since the algorithm is in O(n!) time."
   ]
  },
  {
   "cell_type": "code",
   "execution_count": 2,
   "metadata": {},
   "outputs": [],
   "source": [
    "# Takes two binary strings and returns the number of bits that are not equal (ie bit flips to go from one to the other)\n",
    "def hamming_dist(num1, num2):\n",
    "    dist = 0\n",
    "    for i in np.arange(len(num1)):\n",
    "        if num1[i] != num2[i]:\n",
    "            dist+=1\n",
    "    return dist\n",
    "\n",
    "\n",
    "# sums up the hamming distances between binary numbers in the set\n",
    "def total_hamming(test_order):\n",
    "    total = 0\n",
    "    for i in np.arange(len(test_order)-1):\n",
    "        total += hamming_dist(test_order[i], test_order[i+1])\n",
    "    return total\n",
    "\n",
    "\n",
    "# uses Heap's algorithm to iterate through every permutation of the initial test order\n",
    "# Takes: n(int) - number of bitstrings in the set, \n",
    "#        test_order (list) - current order of the bitstrings (init. default order), \n",
    "#        best_order (list) - order w/ lowest total hamming (init. default order)\n",
    "# Heap's Algorithm takes O(n!) time\n",
    "\n",
    "def find_best_order(n, test_order, best_order):\n",
    "\n",
    "    if n == 1: # bottom of the recursive loop. Here test_order should be an independent permutation\n",
    "        if total_hamming(test_order) < total_hamming(best_order):  # Check if total hamming distance of current ordering is an improvement\n",
    "            best_order[:] = test_order[:]                           # Update best_order to the current ordering if it is\n",
    "      \n",
    "    else:\n",
    "        for i in range(n):\n",
    "            find_best_order(n - 1, test_order, best_order)\n",
    "\n",
    "            # Swap depending on parity of n\n",
    "            if n % 2 == 0:  # If n is even\n",
    "                test_order[i], test_order[n - 1] = test_order[n - 1], test_order[i]\n",
    "            else:  # If n is odd\n",
    "                test_order[0], test_order[n - 1] = test_order[n - 1], test_order[0]"
   ]
  },
  {
   "cell_type": "code",
   "execution_count": 3,
   "metadata": {},
   "outputs": [
    {
     "name": "stdout",
     "output_type": "stream",
     "text": [
      "0000\n",
      "0001\n",
      "0010\n",
      "0011\n",
      "0100\n",
      "0101\n",
      "0110\n",
      "0111\n"
     ]
    }
   ],
   "source": [
    "# n is the number of distinct binary numbers we need\n",
    "n = 8\n",
    "\n",
    "max = bin(n)[2:]\n",
    "max_len = f'0{len(max)}b'\n",
    "\n",
    "bin_encoding = np.empty(n, dtype=object)\n",
    "\n",
    "# populate the array with the first n traditional binary numbers\n",
    "for i in np.arange(n):\n",
    "    bin_encoding[i] = format(i, max_len)\n",
    "    print(bin_encoding[i])"
   ]
  },
  {
   "cell_type": "code",
   "execution_count": 4,
   "metadata": {},
   "outputs": [
    {
     "name": "stdout",
     "output_type": "stream",
     "text": [
      "7\n"
     ]
    }
   ],
   "source": [
    "# now sort the binary encoding to minimize the total hamming distance (first the brute force way)\n",
    "# damn... this is like REALLY inneficient 5 min for n=10\n",
    "# but I think it's right!(?)\n",
    "\n",
    "test_order = list(bin_encoding)\n",
    "best_order = test_order[:]\n",
    "find_best_order(len(test_order), test_order, best_order)\n",
    "best_hamming = total_hamming(best_order)\n",
    "\n",
    "print(best_hamming)         #print hamming score optimal config\n"
   ]
  },
  {
   "cell_type": "code",
   "execution_count": 5,
   "metadata": {},
   "outputs": [
    {
     "data": {
      "text/plain": [
       "['0101', '0100', '0000', '0001', '0011', '0010', '0110', '0111']"
      ]
     },
     "execution_count": 5,
     "metadata": {},
     "output_type": "execute_result"
    }
   ],
   "source": [
    "best_order"
   ]
  },
  {
   "cell_type": "code",
   "execution_count": 6,
   "metadata": {},
   "outputs": [
    {
     "name": "stdout",
     "output_type": "stream",
     "text": [
      "11\n"
     ]
    }
   ],
   "source": [
    "print(total_hamming(bin_encoding))      #compare to the haming score of the traditional binary encoding"
   ]
  },
  {
   "cell_type": "markdown",
   "metadata": {},
   "source": [
    "#### How can we make this not O(n!) time?... thoughts\n",
    "- What if we add a condition to throw out a solution as soon as we see that it contains an individual hamming distance of 2 or more?\n",
    "        --> Here we just have to make sure that we're not missing a good solution where we just need at least one jump\n",
    "        --> maybe start by throuwing out Hamming distances grater than 2?\n",
    "\n",
    "- can also break the loop anywhere that the current hamming score is greated than the minimum since that solution is necessarily going to be worse\n",
    "- need to be careful bc adding extra hamming checks will add (a lot of) computations\n",
    "        --> save best hamming score in a list defined outside the recursive method to be referenced inside?"
   ]
  },
  {
   "cell_type": "markdown",
   "metadata": {},
   "source": [
    "# Bit-flip Indexing Approach\n",
    "\n",
    "Now that we have an implementation of the brute force approach, let's try a completely different, more intelligent approach. After looking at the example calculations Rohan generated by hand (for N=16) with his summation expression, we identified a pattern for which bit is to be flipped to generate the binary encoding of the next integer given the encoding of the previous integer. The pattern for which bit to flip, numbered left to right for N=16 is as follows: 4,3,4,2,4,3,4,1,4,3,4,2,4,3,4.\n",
    "\n",
    "Further, it turns out that this pattern changes in a predictible way as N increases by powers of 2. To apply this pattern to higher values of $N=2^n$ we need only shift each number up by one, insert a 1 after the string of bit flip indeces, and paste the same pattern again after the 1. This process results in a list of N numbers which dictate which bit to flip to get the binary representation of the following number. (I am inlcined to believe that this algorithm operates in linear time but that remains to be proven/analytically shown). However, we can generate 1,000,000 values in 1.7 seconds so there is plenty of data to be collected on this. The following cells implement this approach."
   ]
  },
  {
   "cell_type": "code",
   "execution_count": 7,
   "metadata": {},
   "outputs": [],
   "source": [
    "# Takes the np.array of the indexes upon which to perform a bit flip for N=2^n,\n",
    "# and returns an np.array of the indexes upon which to perform bit flips for N=2^(n+1)\n",
    "# NB. we will have to subtract 1 from all the indexes bc I chose to represent the indeces starting at 1 not 0\n",
    "def get_next_flip_inds(current_flip_inds):\n",
    "    next_flip_inds = current_flip_inds + 1\n",
    "    next_flip_inds = np.append(next_flip_inds, 1, axis=None)\n",
    "    next_flip_inds = np.append(next_flip_inds, next_flip_inds[:-1], axis=None)\n",
    "    return next_flip_inds\n",
    "\n",
    "def get_n_flips(flip_inds_init, little_n):\n",
    "    little_n_init = np.round(np.log2(len(flip_inds_init)))  #rounding bc I got 3.9something initially...\n",
    "\n",
    "    i = little_n_init\n",
    "    my_flip_inds = flip_inds_init\n",
    "    while(i<little_n):\n",
    "        my_flip_inds = get_next_flip_inds(my_flip_inds)\n",
    "        i+=1\n",
    "    return my_flip_inds"
   ]
  },
  {
   "cell_type": "code",
   "execution_count": 8,
   "metadata": {},
   "outputs": [
    {
     "name": "stdout",
     "output_type": "stream",
     "text": [
      "[4 3 4 2 4 3 4 1 4 3 4 2 4 3 4]\n"
     ]
    }
   ],
   "source": [
    "#flip_inds_init = np.array([4,3,4,2,4,3,4,1,4,3,4,2,4,3,4])\n",
    "flip_inds_init = np.array([3,2,3,1,3,2,3])\n",
    "\n",
    "little_n = 4      #Refers to the power of 2\n",
    "\n",
    "print(get_n_flips(flip_inds_init=flip_inds_init, little_n=little_n))\n"
   ]
  },
  {
   "cell_type": "code",
   "execution_count": 9,
   "metadata": {},
   "outputs": [],
   "source": [
    "## Takes: - integer number N of discrete vals we want to represent,\n",
    "#         - our known bit flip pattern for some lower power of 2 in case we want to change from the 2^4 pattern\n",
    "#  Returns: the hamming distance 1 binary encodings for integers 0 to N-1\n",
    "#  Notes: - The function initializes a list with the zero encoding of the appropriate length and loops up to N-1, \n",
    "#               generating the next encoding by flipping the appropriate bit as given by the get_n_flips function\n",
    "\n",
    "#         - Important: I have generalized this to work for non powers of 2 by rounding all powers of 2 UP to the nearest int (math.ceil). ==> For any N != 2^n, the function\n",
    "#                       is applied to the smallest power of 2 greater than N which will return a list which necessarily includes encodings 1-N\n",
    "\n",
    "def generate_n_encoding(my_big_N, flip_inds_init):\n",
    "    string_len = f'0{math.ceil(np.log2(my_big_N))}b'    #NB. I use math.ceil to round up instead of rounding so that for vals of N between powers of 2, \n",
    "                                                        #    we generate the encodings for the next power of 2 greater than N\n",
    "    my_encodings = [format(0, string_len)]                                                              \n",
    "    flip_inds = get_n_flips(flip_inds_init, math.ceil(np.log2(my_big_N)))\n",
    "\n",
    "    for i in np.arange(my_big_N-1):\n",
    "        next_encoding = my_encodings[i]\n",
    "        current_flip_ind = flip_inds[i]-1           # have to subtract 1 from the indeces since I have chosen flip_inds vals to be between 1 and n\n",
    "        if next_encoding[current_flip_ind] == '0':            \n",
    "            next_encoding = next_encoding[:current_flip_ind]+'1'+next_encoding[current_flip_ind+1:]\n",
    "        else:\n",
    "            next_encoding = next_encoding[:current_flip_ind]+'0'+next_encoding[current_flip_ind+1:]\n",
    "        \n",
    "        my_encodings.append(next_encoding)\n",
    "    \n",
    "    return my_encodings\n",
    "    "
   ]
  },
  {
   "cell_type": "code",
   "execution_count": null,
   "metadata": {},
   "outputs": [
    {
     "data": {
      "text/plain": [
       "['0000',\n",
       " '0001',\n",
       " '0011',\n",
       " '0010',\n",
       " '0110',\n",
       " '0111',\n",
       " '0101',\n",
       " '0100',\n",
       " '1100',\n",
       " '1101',\n",
       " '1111',\n",
       " '1110',\n",
       " '1010',\n",
       " '1011',\n",
       " '1001',\n",
       " '1000']"
      ]
     },
     "execution_count": 10,
     "metadata": {},
     "output_type": "execute_result"
    }
   ],
   "source": [
    "generate_n_encoding(16, flip_inds_init) # running this for 1,000,000 takes about 1.6s"
   ]
  },
  {
   "cell_type": "markdown",
   "metadata": {},
   "source": [
    "# Analysis of Results\n",
    "\n",
    "We are now able to generate a large number of minimum hamming binary encodings, but we still need to figure out how to actually use these encodings. Rohan raises a good point: even though we guarantee that close integers have small hamming distances in their binary representations, there's nothing to say that some integers that are far apart will not also have small hamming distances. So there are some questions to answer, such as \"how much does this matter compared to our original problem of close ints having large hamming dist?\" \n",
    "\n",
    "One initial thought is that with our encodings we have guaranteed that all adjacent ints have the minimum Hamming distance of one, yielding an average Hamming distance for adjacent ints also equal to one, whereas for integers which are some distance d>1 apart, they cannot also be guaranteed to be Hamming distance 1 apart for all elements. Thus the average Hamming distance for ints separated by d must be greater than 1. Perhaps we might find that as we compute bigger value of N, the occurences of troublesome cases in which very far ints are very close by hamming distance are statistically insignificant. This remains to be seen.\n",
    "\n",
    "Also, in this analysis, we ought to check for more evidence about the scaling laws of the Bit-Flip Indexing Approach"
   ]
  },
  {
   "cell_type": "code",
   "execution_count": 19,
   "metadata": {},
   "outputs": [],
   "source": [
    "import time\n",
    "import pandas as pd\n",
    "import matplotlib.pyplot as plt\n",
    "%matplotlib inline\n",
    "import statsmodels.api as sm"
   ]
  },
  {
   "cell_type": "code",
   "execution_count": 75,
   "metadata": {},
   "outputs": [],
   "source": [
    "#computes the time it took to generate N encodings for values from 8 to max_N and returns them in a DataFrame\n",
    "def get_comp_time_data(max_N):\n",
    "    results = []\n",
    "\n",
    "    for big_N in np.arange(8, max_N):\n",
    "        start = time.perf_counter()\n",
    "        big_N_encodings = generate_n_encoding(big_N, flip_inds_init)\n",
    "        end = time.perf_counter()\n",
    "\n",
    "        results.append([big_N, end-start])\n",
    "\n",
    "    comp_time_data = pd.DataFrame(results, columns=[\"big_N\", \"compute_time\"])\n",
    "    return comp_time_data"
   ]
  },
  {
   "cell_type": "code",
   "execution_count": 43,
   "metadata": {},
   "outputs": [],
   "source": [
    "enc_scaling_data = get_comp_time_data(2000)"
   ]
  },
  {
   "cell_type": "code",
   "execution_count": 44,
   "metadata": {},
   "outputs": [
    {
     "data": {
      "text/html": [
       "<div>\n",
       "<style scoped>\n",
       "    .dataframe tbody tr th:only-of-type {\n",
       "        vertical-align: middle;\n",
       "    }\n",
       "\n",
       "    .dataframe tbody tr th {\n",
       "        vertical-align: top;\n",
       "    }\n",
       "\n",
       "    .dataframe thead th {\n",
       "        text-align: right;\n",
       "    }\n",
       "</style>\n",
       "<table border=\"1\" class=\"dataframe\">\n",
       "  <thead>\n",
       "    <tr style=\"text-align: right;\">\n",
       "      <th></th>\n",
       "      <th>big_N</th>\n",
       "      <th>compute_time</th>\n",
       "    </tr>\n",
       "  </thead>\n",
       "  <tbody>\n",
       "    <tr>\n",
       "      <th>0</th>\n",
       "      <td>8</td>\n",
       "      <td>0.000148</td>\n",
       "    </tr>\n",
       "    <tr>\n",
       "      <th>1</th>\n",
       "      <td>9</td>\n",
       "      <td>0.000125</td>\n",
       "    </tr>\n",
       "    <tr>\n",
       "      <th>2</th>\n",
       "      <td>10</td>\n",
       "      <td>0.000082</td>\n",
       "    </tr>\n",
       "    <tr>\n",
       "      <th>3</th>\n",
       "      <td>11</td>\n",
       "      <td>0.000075</td>\n",
       "    </tr>\n",
       "    <tr>\n",
       "      <th>4</th>\n",
       "      <td>12</td>\n",
       "      <td>0.000082</td>\n",
       "    </tr>\n",
       "  </tbody>\n",
       "</table>\n",
       "</div>"
      ],
      "text/plain": [
       "   big_N  compute_time\n",
       "0      8      0.000148\n",
       "1      9      0.000125\n",
       "2     10      0.000082\n",
       "3     11      0.000075\n",
       "4     12      0.000082"
      ]
     },
     "execution_count": 44,
     "metadata": {},
     "output_type": "execute_result"
    }
   ],
   "source": [
    "enc_scaling_data.head()"
   ]
  },
  {
   "cell_type": "code",
   "execution_count": 45,
   "metadata": {},
   "outputs": [
    {
     "data": {
      "text/html": [
       "<table class=\"simpletable\">\n",
       "<caption>OLS Regression Results</caption>\n",
       "<tr>\n",
       "  <th>Dep. Variable:</th>      <td>compute_time</td>   <th>  R-squared (uncentered):</th>       <td>   0.874</td> \n",
       "</tr>\n",
       "<tr>\n",
       "  <th>Model:</th>                   <td>OLS</td>       <th>  Adj. R-squared (uncentered):</th>  <td>   0.874</td> \n",
       "</tr>\n",
       "<tr>\n",
       "  <th>Method:</th>             <td>Least Squares</td>  <th>  F-statistic:       </th>           <td>1.386e+04</td>\n",
       "</tr>\n",
       "<tr>\n",
       "  <th>Date:</th>             <td>Fri, 20 Dec 2024</td> <th>  Prob (F-statistic):</th>            <td>  0.00</td>  \n",
       "</tr>\n",
       "<tr>\n",
       "  <th>Time:</th>                 <td>22:53:28</td>     <th>  Log-Likelihood:    </th>           <td>  11407.</td> \n",
       "</tr>\n",
       "<tr>\n",
       "  <th>No. Observations:</th>      <td>  1992</td>      <th>  AIC:               </th>          <td>-2.281e+04</td>\n",
       "</tr>\n",
       "<tr>\n",
       "  <th>Df Residuals:</th>          <td>  1991</td>      <th>  BIC:               </th>          <td>-2.281e+04</td>\n",
       "</tr>\n",
       "<tr>\n",
       "  <th>Df Model:</th>              <td>     1</td>      <th>                     </th>               <td> </td>    \n",
       "</tr>\n",
       "<tr>\n",
       "  <th>Covariance Type:</th>      <td>nonrobust</td>    <th>                     </th>               <td> </td>    \n",
       "</tr>\n",
       "</table>\n",
       "<table class=\"simpletable\">\n",
       "<tr>\n",
       "    <td></td>       <th>coef</th>     <th>std err</th>      <th>t</th>      <th>P>|t|</th>  <th>[0.025</th>    <th>0.975]</th>  \n",
       "</tr>\n",
       "<tr>\n",
       "  <th>big_N</th> <td> 1.799e-06</td> <td> 1.53e-08</td> <td>  117.742</td> <td> 0.000</td> <td> 1.77e-06</td> <td> 1.83e-06</td>\n",
       "</tr>\n",
       "</table>\n",
       "<table class=\"simpletable\">\n",
       "<tr>\n",
       "  <th>Omnibus:</th>       <td>203.795</td> <th>  Durbin-Watson:     </th> <td>   0.654</td> \n",
       "</tr>\n",
       "<tr>\n",
       "  <th>Prob(Omnibus):</th> <td> 0.000</td>  <th>  Jarque-Bera (JB):  </th> <td> 488.698</td> \n",
       "</tr>\n",
       "<tr>\n",
       "  <th>Skew:</th>          <td> 0.596</td>  <th>  Prob(JB):          </th> <td>7.59e-107</td>\n",
       "</tr>\n",
       "<tr>\n",
       "  <th>Kurtosis:</th>      <td> 5.114</td>  <th>  Cond. No.          </th> <td>    1.00</td> \n",
       "</tr>\n",
       "</table><br/><br/>Notes:<br/>[1] R² is computed without centering (uncentered) since the model does not contain a constant.<br/>[2] Standard Errors assume that the covariance matrix of the errors is correctly specified."
      ],
      "text/plain": [
       "<class 'statsmodels.iolib.summary.Summary'>\n",
       "\"\"\"\n",
       "                                 OLS Regression Results                                \n",
       "=======================================================================================\n",
       "Dep. Variable:           compute_time   R-squared (uncentered):                   0.874\n",
       "Model:                            OLS   Adj. R-squared (uncentered):              0.874\n",
       "Method:                 Least Squares   F-statistic:                          1.386e+04\n",
       "Date:                Fri, 20 Dec 2024   Prob (F-statistic):                        0.00\n",
       "Time:                        22:53:28   Log-Likelihood:                          11407.\n",
       "No. Observations:                1992   AIC:                                 -2.281e+04\n",
       "Df Residuals:                    1991   BIC:                                 -2.281e+04\n",
       "Df Model:                           1                                                  \n",
       "Covariance Type:            nonrobust                                                  \n",
       "==============================================================================\n",
       "                 coef    std err          t      P>|t|      [0.025      0.975]\n",
       "------------------------------------------------------------------------------\n",
       "big_N       1.799e-06   1.53e-08    117.742      0.000    1.77e-06    1.83e-06\n",
       "==============================================================================\n",
       "Omnibus:                      203.795   Durbin-Watson:                   0.654\n",
       "Prob(Omnibus):                  0.000   Jarque-Bera (JB):              488.698\n",
       "Skew:                           0.596   Prob(JB):                    7.59e-107\n",
       "Kurtosis:                       5.114   Cond. No.                         1.00\n",
       "==============================================================================\n",
       "\n",
       "Notes:\n",
       "[1] R² is computed without centering (uncentered) since the model does not contain a constant.\n",
       "[2] Standard Errors assume that the covariance matrix of the errors is correctly specified.\n",
       "\"\"\""
      ]
     },
     "execution_count": 45,
     "metadata": {},
     "output_type": "execute_result"
    }
   ],
   "source": [
    "# Perform a linear fit to the data\n",
    "model = sm.OLS(enc_scaling_data['compute_time'], enc_scaling_data['big_N'])\n",
    "result = model.fit()\n",
    "comp_time_fit = result.fittedvalues\n",
    "result.summary()"
   ]
  },
  {
   "cell_type": "code",
   "execution_count": 76,
   "metadata": {},
   "outputs": [
    {
     "data": {
      "text/plain": [
       "big_N    0.000002\n",
       "dtype: float64"
      ]
     },
     "execution_count": 76,
     "metadata": {},
     "output_type": "execute_result"
    }
   ],
   "source": [
    "# to see the slop of the fit\n",
    "result.params"
   ]
  },
  {
   "cell_type": "code",
   "execution_count": 47,
   "metadata": {},
   "outputs": [
    {
     "data": {
      "text/plain": [
       "<matplotlib.legend.Legend at 0x1e96c158340>"
      ]
     },
     "execution_count": 47,
     "metadata": {},
     "output_type": "execute_result"
    },
    {
     "data": {
      "image/png": "[encoded data removed]",
      "text/plain": [
       "<Figure size 720x432 with 1 Axes>"
      ]
     },
     "metadata": {
      "needs_background": "light"
     },
     "output_type": "display_data"
    }
   ],
   "source": [
    "plt.figure(figsize=(10, 6))\n",
    "plt.plot(enc_scaling_data['compute_time'], label= \"Compute Time\")\n",
    "plt.plot(comp_time_fit, label=\"Linear Fit\")\n",
    "plt.xlabel(\"Big N Val\")\n",
    "plt.ylabel(\"Compute Time\")\n",
    "plt.legend()"
   ]
  },
  {
   "cell_type": "code",
   "execution_count": 77,
   "metadata": {},
   "outputs": [],
   "source": [
    "# given an encoding of N values, and an integer distance int_dist to examine:\n",
    "# returns a list of the hamming distances between all encodings in the 1-N set whose corresponing integer values are int_dist apart\n",
    "def d_separated_hammings(int_dist, encoding):\n",
    "    hammings = []\n",
    "    for i in np.arange(len(encoding)-int_dist):\n",
    "        hammings.append(hamming_dist(encoding[i], encoding[i+int_dist]))\n",
    "    return hammings"
   ]
  },
  {
   "cell_type": "code",
   "execution_count": null,
   "metadata": {},
   "outputs": [],
   "source": [
    "# look at the average hamming distances corresponding to integer distances 0-100 for the first 100 bin encodings\n",
    "# I can make this into a more general function and loop it over various N vals to see how it behaves w changes in N\n",
    "# In the end it would be nice to construct a dataframe including the time data and this avg dist data over a range of N values... but im done for the night\n",
    "\n",
    "encode_100 = generate_n_encoding(100, flip_inds_init)\n",
    "hamm_distances = []\n",
    "hamm_avg_per_d = []\n",
    "\n",
    "for d in np.arange(100):\n",
    "    current_d_hamms = d_separated_hammings(d, encode_100)\n",
    "    hamm_distances.append(current_d_hamms)\n",
    "    current_d_hamm_avg = sum(current_d_hamms)/len(current_d_hamms)\n",
    "    hamm_avg_per_d.append(current_d_hamm_avg)"
   ]
  },
  {
   "cell_type": "code",
   "execution_count": 63,
   "metadata": {},
   "outputs": [],
   "source": [
    "hamm_dist_data = pd.DataFrame(hamm_distances)"
   ]
  },
  {
   "cell_type": "code",
   "execution_count": 64,
   "metadata": {},
   "outputs": [
    {
     "data": {
      "text/html": [
       "<div>\n",
       "<style scoped>\n",
       "    .dataframe tbody tr th:only-of-type {\n",
       "        vertical-align: middle;\n",
       "    }\n",
       "\n",
       "    .dataframe tbody tr th {\n",
       "        vertical-align: top;\n",
       "    }\n",
       "\n",
       "    .dataframe thead th {\n",
       "        text-align: right;\n",
       "    }\n",
       "</style>\n",
       "<table border=\"1\" class=\"dataframe\">\n",
       "  <thead>\n",
       "    <tr style=\"text-align: right;\">\n",
       "      <th></th>\n",
       "      <th>0</th>\n",
       "      <th>1</th>\n",
       "      <th>2</th>\n",
       "      <th>3</th>\n",
       "      <th>4</th>\n",
       "      <th>5</th>\n",
       "      <th>6</th>\n",
       "      <th>7</th>\n",
       "      <th>8</th>\n",
       "      <th>9</th>\n",
       "      <th>...</th>\n",
       "      <th>90</th>\n",
       "      <th>91</th>\n",
       "      <th>92</th>\n",
       "      <th>93</th>\n",
       "      <th>94</th>\n",
       "      <th>95</th>\n",
       "      <th>96</th>\n",
       "      <th>97</th>\n",
       "      <th>98</th>\n",
       "      <th>99</th>\n",
       "    </tr>\n",
       "  </thead>\n",
       "  <tbody>\n",
       "    <tr>\n",
       "      <th>0</th>\n",
       "      <td>0</td>\n",
       "      <td>0.0</td>\n",
       "      <td>0.0</td>\n",
       "      <td>0.0</td>\n",
       "      <td>0.0</td>\n",
       "      <td>0.0</td>\n",
       "      <td>0.0</td>\n",
       "      <td>0.0</td>\n",
       "      <td>0.0</td>\n",
       "      <td>0.0</td>\n",
       "      <td>...</td>\n",
       "      <td>0.0</td>\n",
       "      <td>0.0</td>\n",
       "      <td>0.0</td>\n",
       "      <td>0.0</td>\n",
       "      <td>0.0</td>\n",
       "      <td>0.0</td>\n",
       "      <td>0.0</td>\n",
       "      <td>0.0</td>\n",
       "      <td>0.0</td>\n",
       "      <td>0.0</td>\n",
       "    </tr>\n",
       "    <tr>\n",
       "      <th>1</th>\n",
       "      <td>1</td>\n",
       "      <td>1.0</td>\n",
       "      <td>1.0</td>\n",
       "      <td>1.0</td>\n",
       "      <td>1.0</td>\n",
       "      <td>1.0</td>\n",
       "      <td>1.0</td>\n",
       "      <td>1.0</td>\n",
       "      <td>1.0</td>\n",
       "      <td>1.0</td>\n",
       "      <td>...</td>\n",
       "      <td>1.0</td>\n",
       "      <td>1.0</td>\n",
       "      <td>1.0</td>\n",
       "      <td>1.0</td>\n",
       "      <td>1.0</td>\n",
       "      <td>1.0</td>\n",
       "      <td>1.0</td>\n",
       "      <td>1.0</td>\n",
       "      <td>1.0</td>\n",
       "      <td>NaN</td>\n",
       "    </tr>\n",
       "    <tr>\n",
       "      <th>2</th>\n",
       "      <td>2</td>\n",
       "      <td>2.0</td>\n",
       "      <td>2.0</td>\n",
       "      <td>2.0</td>\n",
       "      <td>2.0</td>\n",
       "      <td>2.0</td>\n",
       "      <td>2.0</td>\n",
       "      <td>2.0</td>\n",
       "      <td>2.0</td>\n",
       "      <td>2.0</td>\n",
       "      <td>...</td>\n",
       "      <td>2.0</td>\n",
       "      <td>2.0</td>\n",
       "      <td>2.0</td>\n",
       "      <td>2.0</td>\n",
       "      <td>2.0</td>\n",
       "      <td>2.0</td>\n",
       "      <td>2.0</td>\n",
       "      <td>2.0</td>\n",
       "      <td>NaN</td>\n",
       "      <td>NaN</td>\n",
       "    </tr>\n",
       "    <tr>\n",
       "      <th>3</th>\n",
       "      <td>1</td>\n",
       "      <td>3.0</td>\n",
       "      <td>1.0</td>\n",
       "      <td>3.0</td>\n",
       "      <td>1.0</td>\n",
       "      <td>3.0</td>\n",
       "      <td>1.0</td>\n",
       "      <td>3.0</td>\n",
       "      <td>1.0</td>\n",
       "      <td>3.0</td>\n",
       "      <td>...</td>\n",
       "      <td>1.0</td>\n",
       "      <td>3.0</td>\n",
       "      <td>1.0</td>\n",
       "      <td>3.0</td>\n",
       "      <td>1.0</td>\n",
       "      <td>3.0</td>\n",
       "      <td>1.0</td>\n",
       "      <td>NaN</td>\n",
       "      <td>NaN</td>\n",
       "      <td>NaN</td>\n",
       "    </tr>\n",
       "    <tr>\n",
       "      <th>4</th>\n",
       "      <td>2</td>\n",
       "      <td>2.0</td>\n",
       "      <td>2.0</td>\n",
       "      <td>2.0</td>\n",
       "      <td>2.0</td>\n",
       "      <td>2.0</td>\n",
       "      <td>2.0</td>\n",
       "      <td>2.0</td>\n",
       "      <td>2.0</td>\n",
       "      <td>2.0</td>\n",
       "      <td>...</td>\n",
       "      <td>2.0</td>\n",
       "      <td>2.0</td>\n",
       "      <td>2.0</td>\n",
       "      <td>2.0</td>\n",
       "      <td>2.0</td>\n",
       "      <td>2.0</td>\n",
       "      <td>NaN</td>\n",
       "      <td>NaN</td>\n",
       "      <td>NaN</td>\n",
       "      <td>NaN</td>\n",
       "    </tr>\n",
       "  </tbody>\n",
       "</table>\n",
       "<p>5 rows × 100 columns</p>\n",
       "</div>"
      ],
      "text/plain": [
       "   0    1    2    3    4    5    6    7    8    9   ...   90   91   92   93  \\\n",
       "0   0  0.0  0.0  0.0  0.0  0.0  0.0  0.0  0.0  0.0  ...  0.0  0.0  0.0  0.0   \n",
       "1   1  1.0  1.0  1.0  1.0  1.0  1.0  1.0  1.0  1.0  ...  1.0  1.0  1.0  1.0   \n",
       "2   2  2.0  2.0  2.0  2.0  2.0  2.0  2.0  2.0  2.0  ...  2.0  2.0  2.0  2.0   \n",
       "3   1  3.0  1.0  3.0  1.0  3.0  1.0  3.0  1.0  3.0  ...  1.0  3.0  1.0  3.0   \n",
       "4   2  2.0  2.0  2.0  2.0  2.0  2.0  2.0  2.0  2.0  ...  2.0  2.0  2.0  2.0   \n",
       "\n",
       "    94   95   96   97   98   99  \n",
       "0  0.0  0.0  0.0  0.0  0.0  0.0  \n",
       "1  1.0  1.0  1.0  1.0  1.0  NaN  \n",
       "2  2.0  2.0  2.0  2.0  NaN  NaN  \n",
       "3  1.0  3.0  1.0  NaN  NaN  NaN  \n",
       "4  2.0  2.0  NaN  NaN  NaN  NaN  \n",
       "\n",
       "[5 rows x 100 columns]"
      ]
     },
     "execution_count": 64,
     "metadata": {},
     "output_type": "execute_result"
    }
   ],
   "source": [
    "hamm_dist_data.head()"
   ]
  },
  {
   "cell_type": "code",
   "execution_count": null,
   "metadata": {},
   "outputs": [],
   "source": [
    "avg_hamm_data = pd.DataFrame(hamm_avg_per_d)"
   ]
  },
  {
   "cell_type": "code",
   "execution_count": 68,
   "metadata": {},
   "outputs": [
    {
     "data": {
      "text/html": [
       "<div>\n",
       "<style scoped>\n",
       "    .dataframe tbody tr th:only-of-type {\n",
       "        vertical-align: middle;\n",
       "    }\n",
       "\n",
       "    .dataframe tbody tr th {\n",
       "        vertical-align: top;\n",
       "    }\n",
       "\n",
       "    .dataframe thead th {\n",
       "        text-align: right;\n",
       "    }\n",
       "</style>\n",
       "<table border=\"1\" class=\"dataframe\">\n",
       "  <thead>\n",
       "    <tr style=\"text-align: right;\">\n",
       "      <th></th>\n",
       "      <th>0</th>\n",
       "    </tr>\n",
       "  </thead>\n",
       "  <tbody>\n",
       "    <tr>\n",
       "      <th>0</th>\n",
       "      <td>0.000000</td>\n",
       "    </tr>\n",
       "    <tr>\n",
       "      <th>1</th>\n",
       "      <td>1.000000</td>\n",
       "    </tr>\n",
       "    <tr>\n",
       "      <th>2</th>\n",
       "      <td>2.000000</td>\n",
       "    </tr>\n",
       "    <tr>\n",
       "      <th>3</th>\n",
       "      <td>1.989691</td>\n",
       "    </tr>\n",
       "    <tr>\n",
       "      <th>4</th>\n",
       "      <td>2.000000</td>\n",
       "    </tr>\n",
       "    <tr>\n",
       "      <th>5</th>\n",
       "      <td>2.494737</td>\n",
       "    </tr>\n",
       "    <tr>\n",
       "      <th>6</th>\n",
       "      <td>2.978723</td>\n",
       "    </tr>\n",
       "    <tr>\n",
       "      <th>7</th>\n",
       "      <td>2.483871</td>\n",
       "    </tr>\n",
       "    <tr>\n",
       "      <th>8</th>\n",
       "      <td>2.000000</td>\n",
       "    </tr>\n",
       "    <tr>\n",
       "      <th>9</th>\n",
       "      <td>2.758242</td>\n",
       "    </tr>\n",
       "    <tr>\n",
       "      <th>10</th>\n",
       "      <td>3.511111</td>\n",
       "    </tr>\n",
       "    <tr>\n",
       "      <th>11</th>\n",
       "      <td>3.247191</td>\n",
       "    </tr>\n",
       "    <tr>\n",
       "      <th>12</th>\n",
       "      <td>3.000000</td>\n",
       "    </tr>\n",
       "    <tr>\n",
       "      <th>13</th>\n",
       "      <td>3.252874</td>\n",
       "    </tr>\n",
       "    <tr>\n",
       "      <th>14</th>\n",
       "      <td>3.488372</td>\n",
       "    </tr>\n",
       "    <tr>\n",
       "      <th>15</th>\n",
       "      <td>2.741176</td>\n",
       "    </tr>\n",
       "    <tr>\n",
       "      <th>16</th>\n",
       "      <td>2.000000</td>\n",
       "    </tr>\n",
       "    <tr>\n",
       "      <th>17</th>\n",
       "      <td>2.879518</td>\n",
       "    </tr>\n",
       "    <tr>\n",
       "      <th>18</th>\n",
       "      <td>3.756098</td>\n",
       "    </tr>\n",
       "    <tr>\n",
       "      <th>19</th>\n",
       "      <td>3.617284</td>\n",
       "    </tr>\n",
       "  </tbody>\n",
       "</table>\n",
       "</div>"
      ],
      "text/plain": [
       "           0\n",
       "0   0.000000\n",
       "1   1.000000\n",
       "2   2.000000\n",
       "3   1.989691\n",
       "4   2.000000\n",
       "5   2.494737\n",
       "6   2.978723\n",
       "7   2.483871\n",
       "8   2.000000\n",
       "9   2.758242\n",
       "10  3.511111\n",
       "11  3.247191\n",
       "12  3.000000\n",
       "13  3.252874\n",
       "14  3.488372\n",
       "15  2.741176\n",
       "16  2.000000\n",
       "17  2.879518\n",
       "18  3.756098\n",
       "19  3.617284"
      ]
     },
     "execution_count": 68,
     "metadata": {},
     "output_type": "execute_result"
    }
   ],
   "source": [
    "avg_hamm_data.head(20)"
   ]
  },
  {
   "cell_type": "code",
   "execution_count": 74,
   "metadata": {},
   "outputs": [
    {
     "data": {
      "text/plain": [
       "Text(0, 0.5, 'Average Hamming Distance (range N)')"
      ]
     },
     "execution_count": 74,
     "metadata": {},
     "output_type": "execute_result"
    },
    {
     "data": {
      "image/png": "[encoded data removed]",
      "text/plain": [
       "<Figure size 720x432 with 1 Axes>"
      ]
     },
     "metadata": {
      "needs_background": "light"
     },
     "output_type": "display_data"
    }
   ],
   "source": [
    "plt.figure(figsize=(10,6))\n",
    "plt.scatter(x=np.arange(100), y=avg_hamm_data[0])\n",
    "plt.xlabel(\"Integer Distance D\")\n",
    "plt.ylabel(\"Average Hamming Distance (range N)\")"
   ]
  }
 ],
 "metadata": {
  "kernelspec": {
   "display_name": "base",
   "language": "python",
   "name": "python3"
  },
  "language_info": {
   "codemirror_mode": {
    "name": "ipython",
    "version": 3
   },
   "file_extension": ".py",
   "mimetype": "text/x-python",
   "name": "python",
   "nbconvert_exporter": "python",
   "pygments_lexer": "ipython3",
   "version": "3.9.12"
  }
 },
 "nbformat": 4,
 "nbformat_minor": 2
}
